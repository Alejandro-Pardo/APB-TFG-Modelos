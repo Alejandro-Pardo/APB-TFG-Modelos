{
 "cells": [
  {
   "cell_type": "code",
   "execution_count": null,
   "metadata": {},
   "outputs": [],
   "source": [
    "import pandas as pd\n",
    "from transformers import AutoModel, AutoConfig, AutoTokenizer\n",
    "from transformers.modeling_outputs import TokenClassifierOutput\n",
    "import torch\n",
    "import torch.nn as nn  \n",
    "import numpy as np"
   ]
  },
  {
   "cell_type": "code",
   "execution_count": null,
   "metadata": {},
   "outputs": [],
   "source": [
    "class CustomModel(nn.Module):\n",
    "\n",
    "  def __init__(self,checkpoint,num_labels): \n",
    "\n",
    "    super(CustomModel,self).__init__() \n",
    "    self.num_labels = num_labels \n",
    "\n",
    "    self.model = AutoModel.from_pretrained(checkpoint,config=AutoConfig.from_pretrained(checkpoint, output_attentions=True,output_hidden_states=True))\n",
    "    self.dropout = nn.Dropout(0.1) \n",
    "    self.classifier = nn.Linear(768,21) \n",
    "\n",
    "  def forward(self, input_ids=None, attention_mask=None,labels=None):\n",
    "    #utiliza el modelo para generar la salida\n",
    "    outputs = self.model(input_ids=input_ids, attention_mask=attention_mask)\n",
    "\n",
    "    #aplica el resto de capas\n",
    "    sequence_output = self.dropout(outputs[0]) #outputs[0]=último estado\n",
    "    logits = self.classifier(sequence_output[:,0,:].view(-1,768)) # calcula el error\n",
    "    \n",
    "    loss = None\n",
    "    if labels is not None:\n",
    "      loss_fct = nn.CrossEntropyLoss()\n",
    "      loss = loss_fct(logits.view(-1, self.num_labels), labels.view(-1))\n",
    "    \n",
    "    return TokenClassifierOutput(loss=loss, logits=logits, hidden_states=outputs.hidden_states,attentions=outputs.attentions)"
   ]
  },
  {
   "cell_type": "code",
   "execution_count": null,
   "metadata": {},
   "outputs": [],
   "source": [
    "model_name = \"SamLowe/roberta-base-go_emotions\"\n",
    "device = torch.device(\"cuda\" if torch.cuda.is_available() else \"cpu\")\n",
    "model=CustomModel(checkpoint= model_name, num_labels=21)\n",
    "tokenizer = AutoTokenizer.from_pretrained(model_name)\n",
    "model.load_state_dict(torch.load(\"model_state.bin\"))\n",
    "model.to(device)\n",
    "model.eval()"
   ]
  },
  {
   "cell_type": "code",
   "execution_count": null,
   "metadata": {},
   "outputs": [],
   "source": [
    "import numpy as np\n",
    "def clasificar_texto(texto):\n",
    "    # Tokeniza el texto\n",
    "    inputs = tokenizer(texto, return_tensors='pt').to(device)\n",
    "\n",
    "    # Obtiene las predicciones del modelo\n",
    "    outputs = model(**inputs)\n",
    "\n",
    "    # Obtiene la probabilidad de cada clase\n",
    "    probabilidades = torch.nn.functional.softmax(outputs.logits, dim=-1)\n",
    "\n",
    "    # Obtiene la clase con la mayor probabilidad\n",
    "    clase_predicha = torch.argmax(probabilidades)\n",
    "\n",
    "    # Obtiene la relevancia (probabilidad de la clase predicha)\n",
    "    relevancia = probabilidades[0, clase_predicha].item()\n",
    "\n",
    "    relevancia_escalada = np.interp(relevancia, (0, 1), (0, 10))\n",
    "\n",
    "    return clase_predicha.item() + 1, relevancia_escalada\n",
    "\n"
   ]
  },
  {
   "cell_type": "code",
   "execution_count": null,
   "metadata": {},
   "outputs": [],
   "source": [
    "def check_length(text):\n",
    "    tokens = tokenizer.encode(text, truncation=False)\n",
    "    return len(tokens) <= 512"
   ]
  },
  {
   "cell_type": "code",
   "execution_count": null,
   "metadata": {},
   "outputs": [],
   "source": [
    "\"\"\"df = pd.read_csv('/kaggle/input/classifier-model-data/classify_sliced/parte_1.csv')\n",
    "df['text'] = df['text'].fillna('')\n",
    "mask = df['text'].apply(check_length)\n",
    "df = df[mask]\n",
    "df['label'], df['relevance'] = zip(*df['text'].map(clasificar_texto))\"\"\""
   ]
  },
  {
   "cell_type": "code",
   "execution_count": null,
   "metadata": {},
   "outputs": [],
   "source": [
    "\"\"\"# Ordena los textos por relevancia y los guarda en un CSV\n",
    "df.sort_values(by='relevance', ascending=False).to_csv('/kaggle/working/results_1.csv', index=False)\"\"\""
   ]
  },
  {
   "cell_type": "markdown",
   "metadata": {},
   "source": [
    "# Métricas de Evaluación"
   ]
  },
  {
   "cell_type": "code",
   "execution_count": null,
   "metadata": {},
   "outputs": [],
   "source": [
    "from sklearn.metrics import classification_report\n",
    "from datasets import DatasetDict, Dataset\n",
    "from sklearn.model_selection import train_test_split"
   ]
  },
  {
   "cell_type": "code",
   "execution_count": null,
   "metadata": {},
   "outputs": [],
   "source": [
    "train = pd.read_csv('train.csv')\n",
    "_ , X_val = train_test_split(train, test_size=0.15, random_state=42, stratify=train['label'])\n",
    "np.random.seed(42)"
   ]
  },
  {
   "cell_type": "code",
   "execution_count": null,
   "metadata": {},
   "outputs": [],
   "source": [
    "dict_dataset= DatasetDict()\n",
    "dict_dataset['test'] = Dataset.from_pandas(X_val)\n",
    "print(dict_dataset)"
   ]
  },
  {
   "cell_type": "code",
   "execution_count": null,
   "metadata": {},
   "outputs": [],
   "source": [
    "dict_dataset = dict_dataset.remove_columns(['__index_level_0__', 'length', 'docid'])\n",
    "MAX_LENGTH = 180"
   ]
  },
  {
   "cell_type": "code",
   "execution_count": null,
   "metadata": {},
   "outputs": [],
   "source": [
    "def get_prediction(texto):\n",
    "    # Tokeniza el texto\n",
    "    inputs = tokenizer(texto, return_tensors='pt').to(device)\n",
    "\n",
    "    # Obtiene las predicciones del modelo\n",
    "    outputs = model(**inputs)\n",
    "\n",
    "    # Obtiene la probabilidad de cada clase\n",
    "    probabilidades = torch.nn.functional.softmax(outputs.logits, dim=-1)\n",
    "\n",
    "    # Obtiene la clase con la mayor probabilidad\n",
    "    clase_predicha = torch.argmax(probabilidades)\n",
    "\n",
    "\n",
    "    return clase_predicha.item() + 1\n"
   ]
  },
  {
   "cell_type": "code",
   "execution_count": null,
   "metadata": {},
   "outputs": [],
   "source": [
    "y_pred=[get_prediction(text) for text in dict_dataset['test']['text']]\n",
    "y_true = dict_dataset['test']['label']"
   ]
  },
  {
   "cell_type": "code",
   "execution_count": null,
   "metadata": {},
   "outputs": [],
   "source": [
    "from sklearn.metrics import precision_score, recall_score, f1_score\n"
   ]
  },
  {
   "cell_type": "code",
   "execution_count": null,
   "metadata": {},
   "outputs": [],
   "source": [
    "print(classification_report(y_true=y_true, y_pred=y_pred))\n",
    "micro_precision = precision_score(y_true, y_pred, average='micro')\n",
    "micro_recall = recall_score(y_true, y_pred, average='micro')\n",
    "micro_f1 = f1_score(y_true, y_pred, average='micro')\n",
    "print(f'Micro Precision: {micro_precision}')\n",
    "print(f'Micro Recall: {micro_recall}')\n",
    "print(f'Micro F1-Score: {micro_f1}')"
   ]
  }
 ],
 "metadata": {
  "kernelspec": {
   "display_name": "Python 3",
   "language": "python",
   "name": "python3"
  },
  "language_info": {
   "codemirror_mode": {
    "name": "ipython",
    "version": 3
   },
   "file_extension": ".py",
   "mimetype": "text/x-python",
   "name": "python",
   "nbconvert_exporter": "python",
   "pygments_lexer": "ipython3",
   "version": "3.11.7"
  }
 },
 "nbformat": 4,
 "nbformat_minor": 2
}
